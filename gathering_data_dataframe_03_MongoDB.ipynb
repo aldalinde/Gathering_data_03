{
 "cells": [
  {
   "cell_type": "markdown",
   "metadata": {},
   "source": [
    "1) Развернуть у себя на компьютере/виртуальной машине/хостинге MongoDB и реализовать функцию, записывающую собранные вакансии в созданную БД"
   ]
  },
  {
   "cell_type": "code",
   "execution_count": 1,
   "metadata": {},
   "outputs": [],
   "source": [
    "import numpy as np\n",
    "import pandas as pd\n",
    "from pprint import pprint\n",
    "from pymongo import MongoClient"
   ]
  },
  {
   "cell_type": "code",
   "execution_count": 2,
   "metadata": {},
   "outputs": [],
   "source": [
    "client = MongoClient('localhost', 27017)\n",
    "db = client['vacancies_db']\n",
    "vacancies = db.vacancies"
   ]
  },
  {
   "cell_type": "code",
   "execution_count": 3,
   "metadata": {},
   "outputs": [],
   "source": [
    "vacancies_df = pd.read_csv('D:/AI/vacancies_consolidated.csv')"
   ]
  },
  {
   "cell_type": "code",
   "execution_count": 4,
   "metadata": {},
   "outputs": [
    {
     "data": {
      "text/html": [
       "<div>\n",
       "<style scoped>\n",
       "    .dataframe tbody tr th:only-of-type {\n",
       "        vertical-align: middle;\n",
       "    }\n",
       "\n",
       "    .dataframe tbody tr th {\n",
       "        vertical-align: top;\n",
       "    }\n",
       "\n",
       "    .dataframe thead th {\n",
       "        text-align: right;\n",
       "    }\n",
       "</style>\n",
       "<table border=\"1\" class=\"dataframe\">\n",
       "  <thead>\n",
       "    <tr style=\"text-align: right;\">\n",
       "      <th></th>\n",
       "      <th>Название вакансии</th>\n",
       "      <th>Ссылка на вакансию</th>\n",
       "      <th>Заработная плата</th>\n",
       "      <th>Источник вакансии</th>\n",
       "      <th>min плата</th>\n",
       "      <th>max плата</th>\n",
       "    </tr>\n",
       "  </thead>\n",
       "  <tbody>\n",
       "    <tr>\n",
       "      <th>0</th>\n",
       "      <td>Программист 1С</td>\n",
       "      <td>https://www.superjob.ru/vakansii/programmist-1...</td>\n",
       "      <td>По договорённости</td>\n",
       "      <td>SuperJob</td>\n",
       "      <td>NaN</td>\n",
       "      <td>NaN</td>\n",
       "    </tr>\n",
       "    <tr>\n",
       "      <th>1</th>\n",
       "      <td>Инженер-программист 1 категории отдела внедрен...</td>\n",
       "      <td>https://www.superjob.ru/vakansii/inzhener-prog...</td>\n",
       "      <td>По договорённости</td>\n",
       "      <td>SuperJob</td>\n",
       "      <td>NaN</td>\n",
       "      <td>NaN</td>\n",
       "    </tr>\n",
       "    <tr>\n",
       "      <th>2</th>\n",
       "      <td>Программист 1С (Middle)</td>\n",
       "      <td>https://www.superjob.ru/vakansii/programmist-1...</td>\n",
       "      <td>По договорённости</td>\n",
       "      <td>SuperJob</td>\n",
       "      <td>NaN</td>\n",
       "      <td>NaN</td>\n",
       "    </tr>\n",
       "  </tbody>\n",
       "</table>\n",
       "</div>"
      ],
      "text/plain": [
       "                                   Название вакансии  \\\n",
       "0                                     Программист 1С   \n",
       "1  Инженер-программист 1 категории отдела внедрен...   \n",
       "2                            Программист 1С (Middle)   \n",
       "\n",
       "                                  Ссылка на вакансию   Заработная плата  \\\n",
       "0  https://www.superjob.ru/vakansii/programmist-1...  По договорённости   \n",
       "1  https://www.superjob.ru/vakansii/inzhener-prog...  По договорённости   \n",
       "2  https://www.superjob.ru/vakansii/programmist-1...  По договорённости   \n",
       "\n",
       "  Источник вакансии  min плата  max плата  \n",
       "0          SuperJob        NaN        NaN  \n",
       "1          SuperJob        NaN        NaN  \n",
       "2          SuperJob        NaN        NaN  "
      ]
     },
     "execution_count": 4,
     "metadata": {},
     "output_type": "execute_result"
    }
   ],
   "source": [
    "vacancies_df.head(3)"
   ]
  },
  {
   "cell_type": "code",
   "execution_count": 5,
   "metadata": {},
   "outputs": [],
   "source": [
    "# adding vacancies to db\n",
    "for i in range (len(vacancies_df)):\n",
    "    vacancies.insert_one({'Название вакансии': vacancies_df['Название вакансии'][i],\n",
    "                          'Ссылка на вакансию':  vacancies_df['Ссылка на вакансию'][i],\n",
    "                          'Заработная плата': vacancies_df['Заработная плата'][i],\n",
    "                          'Источник вакансии': vacancies_df['Источник вакансии'][i],\n",
    "                          'min плата': vacancies_df['min плата'][i],\n",
    "                          'max плата': vacancies_df['max плата'][i]})\n"
   ]
  },
  {
   "cell_type": "markdown",
   "metadata": {},
   "source": [
    "2) Написать функцию, которая производит поиск и выводит на экран вакансии с заработной платой больше введенной суммы"
   ]
  },
  {
   "cell_type": "code",
   "execution_count": 6,
   "metadata": {},
   "outputs": [
    {
     "name": "stdout",
     "output_type": "stream",
     "text": [
      "Минимальный желаемый размер заработной платы: 200000\n"
     ]
    }
   ],
   "source": [
    "min_salary = int(input('Минимальный желаемый размер заработной платы: '))"
   ]
  },
  {
   "cell_type": "code",
   "execution_count": 7,
   "metadata": {},
   "outputs": [],
   "source": [
    "v = vacancies.find({'min плата': {'$gte': min_salary}})"
   ]
  },
  {
   "cell_type": "code",
   "execution_count": 8,
   "metadata": {},
   "outputs": [
    {
     "name": "stdout",
     "output_type": "stream",
     "text": [
      "Вакансия\n",
      "{'_id': ObjectId('5db451427a064501d89827d5'),\n",
      " 'max плата': nan,\n",
      " 'min плата': 200000.0,\n",
      " 'Заработная плата': 'от 200 000 ₽',\n",
      " 'Источник вакансии': 'SuperJob',\n",
      " 'Название вакансии': 'Программист ABAP (специалист по разработке программ и '\n",
      "                      'интерфейсов)',\n",
      " 'Ссылка на вакансию': 'https://www.superjob.ru/vakansii/programmist-abap-32757535.html'}\n",
      "Вакансия\n",
      "{'_id': ObjectId('5db451427a064501d898285a'),\n",
      " 'max плата': nan,\n",
      " 'min плата': 200000.0,\n",
      " 'Заработная плата': 'от 200\\xa0000 руб.',\n",
      " 'Источник вакансии': 'HeadHunter',\n",
      " 'Название вакансии': 'Ruby on rails разработчик (Backend)',\n",
      " 'Ссылка на вакансию': 'https://spb.hh.ru/vacancy/33435240?query=%D0%9F%D1%80%D0%BE%D0%B3%D1%80%D0%B0%D0%BC%D0%BC%D0%B8%D1%81%D1%82'}\n",
      "Вакансия\n",
      "{'_id': ObjectId('5db455aadc764b13ea9651e7'),\n",
      " 'max плата': nan,\n",
      " 'min плата': 200000.0,\n",
      " 'Заработная плата': 'от 200 000 ₽',\n",
      " 'Источник вакансии': 'SuperJob',\n",
      " 'Название вакансии': 'Программист ABAP (специалист по разработке программ и '\n",
      "                      'интерфейсов)',\n",
      " 'Ссылка на вакансию': 'https://www.superjob.ru/vakansii/programmist-abap-32757535.html'}\n",
      "Вакансия\n",
      "{'_id': ObjectId('5db455aadc764b13ea96526c'),\n",
      " 'max плата': nan,\n",
      " 'min плата': 200000.0,\n",
      " 'Заработная плата': 'от 200\\xa0000 руб.',\n",
      " 'Источник вакансии': 'HeadHunter',\n",
      " 'Название вакансии': 'Ruby on rails разработчик (Backend)',\n",
      " 'Ссылка на вакансию': 'https://spb.hh.ru/vacancy/33435240?query=%D0%9F%D1%80%D0%BE%D0%B3%D1%80%D0%B0%D0%BC%D0%BC%D0%B8%D1%81%D1%82'}\n",
      "Вакансия\n",
      "{'_id': ObjectId('5db45631b365ae685e619869'),\n",
      " 'max плата': nan,\n",
      " 'min плата': 200000.0,\n",
      " 'Заработная плата': 'от 200 000 ₽',\n",
      " 'Источник вакансии': 'SuperJob',\n",
      " 'Название вакансии': 'Программист ABAP (специалист по разработке программ и '\n",
      "                      'интерфейсов)',\n",
      " 'Ссылка на вакансию': 'https://www.superjob.ru/vakansii/programmist-abap-32757535.html'}\n",
      "Вакансия\n",
      "{'_id': ObjectId('5db45632b365ae685e6198ee'),\n",
      " 'max плата': nan,\n",
      " 'min плата': 200000.0,\n",
      " 'Заработная плата': 'от 200\\xa0000 руб.',\n",
      " 'Источник вакансии': 'HeadHunter',\n",
      " 'Название вакансии': 'Ruby on rails разработчик (Backend)',\n",
      " 'Ссылка на вакансию': 'https://spb.hh.ru/vacancy/33435240?query=%D0%9F%D1%80%D0%BE%D0%B3%D1%80%D0%B0%D0%BC%D0%BC%D0%B8%D1%81%D1%82'}\n",
      "Вакансия\n",
      "{'_id': ObjectId('5db45760d2ca681ffdd1e20e'),\n",
      " 'max плата': nan,\n",
      " 'min плата': 200000.0,\n",
      " 'Заработная плата': 'от 200 000 ₽',\n",
      " 'Источник вакансии': 'SuperJob',\n",
      " 'Название вакансии': 'Программист ABAP (специалист по разработке программ и '\n",
      "                      'интерфейсов)',\n",
      " 'Ссылка на вакансию': 'https://www.superjob.ru/vakansii/programmist-abap-32757535.html'}\n",
      "Вакансия\n",
      "{'_id': ObjectId('5db45760d2ca681ffdd1e293'),\n",
      " 'max плата': nan,\n",
      " 'min плата': 200000.0,\n",
      " 'Заработная плата': 'от 200\\xa0000 руб.',\n",
      " 'Источник вакансии': 'HeadHunter',\n",
      " 'Название вакансии': 'Ruby on rails разработчик (Backend)',\n",
      " 'Ссылка на вакансию': 'https://spb.hh.ru/vacancy/33435240?query=%D0%9F%D1%80%D0%BE%D0%B3%D1%80%D0%B0%D0%BC%D0%BC%D0%B8%D1%81%D1%82'}\n"
     ]
    }
   ],
   "source": [
    "for item in v:\n",
    "    print('Вакансия')\n",
    "    pprint(item)"
   ]
  },
  {
   "cell_type": "code",
   "execution_count": null,
   "metadata": {},
   "outputs": [],
   "source": []
  }
 ],
 "metadata": {
  "kernelspec": {
   "display_name": "Python 3",
   "language": "python",
   "name": "python3"
  },
  "language_info": {
   "codemirror_mode": {
    "name": "ipython",
    "version": 3
   },
   "file_extension": ".py",
   "mimetype": "text/x-python",
   "name": "python",
   "nbconvert_exporter": "python",
   "pygments_lexer": "ipython3",
   "version": "3.7.2"
  }
 },
 "nbformat": 4,
 "nbformat_minor": 2
}
